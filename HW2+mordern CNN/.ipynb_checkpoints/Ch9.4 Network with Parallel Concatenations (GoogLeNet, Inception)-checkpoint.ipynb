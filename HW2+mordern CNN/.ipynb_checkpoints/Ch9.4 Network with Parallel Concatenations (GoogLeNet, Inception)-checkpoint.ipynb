{
 "cells": [
  {
   "cell_type": "code",
   "execution_count": 1,
   "metadata": {},
   "outputs": [],
   "source": [
    "import time \n",
    "\n",
    "import torch \n",
    "import torch.nn as nn \n",
    "import torch.optim as optim "
   ]
  },
  {
   "cell_type": "markdown",
   "metadata": {},
   "source": [
    "* a structure that combined the strengths of the NiN and repeated blocks paradigms\n",
    "* One focus of the paper was to address the question of which sized convolutional kernels are best.\n",
    "* After all, previous popular networks employed choices as small as $1 \\times 1$ and as large as $11 \\times 11$. One insight in this paper was that sometimes it can be advantageous to employ a combination of variously-sized kernels."
   ]
  },
  {
   "cell_type": "markdown",
   "metadata": {},
   "source": [
    "*** \n",
    "* ```Inception_Blocks```\n",
    "* the inception block consists of four parallel paths.\n",
    "* the first three paths use convolutional layers with window sizes of $1\\times 1$, $3\\times 3$, and $5\\times 5$ to extract information from different spatial sizes.\n",
    "* the middle two paths perform a $1\\times 1$ convolution on the input to reduce the number of input channels, reducing the model's complexity.\n",
    "* The fourth path uses a $3\\times 3$ maximum pooling layer, followed by a $1\\times 1$ convolutional layer to change the number of channels."
   ]
  },
  {
   "cell_type": "code",
   "execution_count": null,
   "metadata": {},
   "outputs": [],
   "source": []
  }
 ],
 "metadata": {
  "kernelspec": {
   "display_name": "Python [conda env:pytorch_env] *",
   "language": "python",
   "name": "conda-env-pytorch_env-py"
  },
  "language_info": {
   "codemirror_mode": {
    "name": "ipython",
    "version": 3
   },
   "file_extension": ".py",
   "mimetype": "text/x-python",
   "name": "python",
   "nbconvert_exporter": "python",
   "pygments_lexer": "ipython3",
   "version": "3.8.5"
  }
 },
 "nbformat": 4,
 "nbformat_minor": 4
}
